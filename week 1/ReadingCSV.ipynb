{
 "cells": [
  {
   "cell_type": "code",
   "execution_count": 4,
   "metadata": {
    "tags": []
   },
   "outputs": [
    {
     "output_type": "execute_result",
     "data": {
      "text/plain": "'%.2f'"
     },
     "metadata": {},
     "execution_count": 4
    }
   ],
   "source": [
    "import csv\n",
    "%precision 2"
   ]
  },
  {
   "cell_type": "code",
   "execution_count": 10,
   "metadata": {},
   "outputs": [
    {
     "output_type": "execute_result",
     "data": {
      "text/plain": "[{'Id': '1',\n  'MSSubClass': '60',\n  'MSZoning': 'RL',\n  'LotFrontage': '65',\n  'LotArea': '8450',\n  'Street': 'Pave',\n  'Alley': 'NA',\n  'LotShape': 'Reg',\n  'LandContour': 'Lvl',\n  'Utilities': 'AllPub',\n  'LotConfig': 'Inside',\n  'LandSlope': 'Gtl',\n  'Neighborhood': 'CollgCr',\n  'Condition1': 'Norm',\n  'Condition2': 'Norm',\n  'BldgType': '1Fam',\n  'HouseStyle': '2Story',\n  'OverallQual': '7',\n  'OverallCond': '5',\n  'YearBuilt': '2003',\n  'YearRemodAdd': '2003',\n  'RoofStyle': 'Gable',\n  'RoofMatl': 'CompShg',\n  'Exterior1st': 'VinylSd',\n  'Exterior2nd': 'VinylSd',\n  'MasVnrType': 'BrkFace',\n  'MasVnrArea': '196',\n  'ExterQual': 'Gd',\n  'ExterCond': 'TA',\n  'Foundation': 'PConc',\n  'BsmtQual': 'Gd',\n  'BsmtCond': 'TA',\n  'BsmtExposure': 'No',\n  'BsmtFinType1': 'GLQ',\n  'BsmtFinSF1': '706',\n  'BsmtFinType2': 'Unf',\n  'BsmtFinSF2': '0',\n  'BsmtUnfSF': '150',\n  'TotalBsmtSF': '856',\n  'Heating': 'GasA',\n  'HeatingQC': 'Ex',\n  'CentralAir': 'Y',\n  'Electrical': 'SBrkr',\n  '1stFlrSF': '856',\n  '2ndFlrSF': '854',\n  'LowQualFinSF': '0',\n  'GrLivArea': '1710',\n  'BsmtFullBath': '1',\n  'BsmtHalfBath': '0',\n  'FullBath': '2',\n  'HalfBath': '1',\n  'BedroomAbvGr': '3',\n  'KitchenAbvGr': '1',\n  'KitchenQual': 'Gd',\n  'TotRmsAbvGrd': '8',\n  'Functional': 'Typ',\n  'Fireplaces': '0',\n  'FireplaceQu': 'NA',\n  'GarageType': 'Attchd',\n  'GarageYrBlt': '2003',\n  'GarageFinish': 'RFn',\n  'GarageCars': '2',\n  'GarageArea': '548',\n  'GarageQual': 'TA',\n  'GarageCond': 'TA',\n  'PavedDrive': 'Y',\n  'WoodDeckSF': '0',\n  'OpenPorchSF': '61',\n  'EnclosedPorch': '0',\n  '3SsnPorch': '0',\n  'ScreenPorch': '0',\n  'PoolArea': '0',\n  'PoolQC': 'NA',\n  'Fence': 'NA',\n  'MiscFeature': 'NA',\n  'MiscVal': '0',\n  'MoSold': '2',\n  'YrSold': '2008',\n  'SaleType': 'WD',\n  'SaleCondition': 'Normal',\n  'SalePrice': '208500'},\n {'Id': '2',\n  'MSSubClass': '20',\n  'MSZoning': 'RL',\n  'LotFrontage': '80',\n  'LotArea': '9600',\n  'Street': 'Pave',\n  'Alley': 'NA',\n  'LotShape': 'Reg',\n  'LandContour': 'Lvl',\n  'Utilities': 'AllPub',\n  'LotConfig': 'FR2',\n  'LandSlope': 'Gtl',\n  'Neighborhood': 'Veenker',\n  'Condition1': 'Feedr',\n  'Condition2': 'Norm',\n  'BldgType': '1Fam',\n  'HouseStyle': '1Story',\n  'OverallQual': '6',\n  'OverallCond': '8',\n  'YearBuilt': '1976',\n  'YearRemodAdd': '1976',\n  'RoofStyle': 'Gable',\n  'RoofMatl': 'CompShg',\n  'Exterior1st': 'MetalSd',\n  'Exterior2nd': 'MetalSd',\n  'MasVnrType': 'None',\n  'MasVnrArea': '0',\n  'ExterQual': 'TA',\n  'ExterCond': 'TA',\n  'Foundation': 'CBlock',\n  'BsmtQual': 'Gd',\n  'BsmtCond': 'TA',\n  'BsmtExposure': 'Gd',\n  'BsmtFinType1': 'ALQ',\n  'BsmtFinSF1': '978',\n  'BsmtFinType2': 'Unf',\n  'BsmtFinSF2': '0',\n  'BsmtUnfSF': '284',\n  'TotalBsmtSF': '1262',\n  'Heating': 'GasA',\n  'HeatingQC': 'Ex',\n  'CentralAir': 'Y',\n  'Electrical': 'SBrkr',\n  '1stFlrSF': '1262',\n  '2ndFlrSF': '0',\n  'LowQualFinSF': '0',\n  'GrLivArea': '1262',\n  'BsmtFullBath': '0',\n  'BsmtHalfBath': '1',\n  'FullBath': '2',\n  'HalfBath': '0',\n  'BedroomAbvGr': '3',\n  'KitchenAbvGr': '1',\n  'KitchenQual': 'TA',\n  'TotRmsAbvGrd': '6',\n  'Functional': 'Typ',\n  'Fireplaces': '1',\n  'FireplaceQu': 'TA',\n  'GarageType': 'Attchd',\n  'GarageYrBlt': '1976',\n  'GarageFinish': 'RFn',\n  'GarageCars': '2',\n  'GarageArea': '460',\n  'GarageQual': 'TA',\n  'GarageCond': 'TA',\n  'PavedDrive': 'Y',\n  'WoodDeckSF': '298',\n  'OpenPorchSF': '0',\n  'EnclosedPorch': '0',\n  '3SsnPorch': '0',\n  'ScreenPorch': '0',\n  'PoolArea': '0',\n  'PoolQC': 'NA',\n  'Fence': 'NA',\n  'MiscFeature': 'NA',\n  'MiscVal': '0',\n  'MoSold': '5',\n  'YrSold': '2007',\n  'SaleType': 'WD',\n  'SaleCondition': 'Normal',\n  'SalePrice': '181500'},\n {'Id': '3',\n  'MSSubClass': '60',\n  'MSZoning': 'RL',\n  'LotFrontage': '68',\n  'LotArea': '11250',\n  'Street': 'Pave',\n  'Alley': 'NA',\n  'LotShape': 'IR1',\n  'LandContour': 'Lvl',\n  'Utilities': 'AllPub',\n  'LotConfig': 'Inside',\n  'LandSlope': 'Gtl',\n  'Neighborhood': 'CollgCr',\n  'Condition1': 'Norm',\n  'Condition2': 'Norm',\n  'BldgType': '1Fam',\n  'HouseStyle': '2Story',\n  'OverallQual': '7',\n  'OverallCond': '5',\n  'YearBuilt': '2001',\n  'YearRemodAdd': '2002',\n  'RoofStyle': 'Gable',\n  'RoofMatl': 'CompShg',\n  'Exterior1st': 'VinylSd',\n  'Exterior2nd': 'VinylSd',\n  'MasVnrType': 'BrkFace',\n  'MasVnrArea': '162',\n  'ExterQual': 'Gd',\n  'ExterCond': 'TA',\n  'Foundation': 'PConc',\n  'BsmtQual': 'Gd',\n  'BsmtCond': 'TA',\n  'BsmtExposure': 'Mn',\n  'BsmtFinType1': 'GLQ',\n  'BsmtFinSF1': '486',\n  'BsmtFinType2': 'Unf',\n  'BsmtFinSF2': '0',\n  'BsmtUnfSF': '434',\n  'TotalBsmtSF': '920',\n  'Heating': 'GasA',\n  'HeatingQC': 'Ex',\n  'CentralAir': 'Y',\n  'Electrical': 'SBrkr',\n  '1stFlrSF': '920',\n  '2ndFlrSF': '866',\n  'LowQualFinSF': '0',\n  'GrLivArea': '1786',\n  'BsmtFullBath': '1',\n  'BsmtHalfBath': '0',\n  'FullBath': '2',\n  'HalfBath': '1',\n  'BedroomAbvGr': '3',\n  'KitchenAbvGr': '1',\n  'KitchenQual': 'Gd',\n  'TotRmsAbvGrd': '6',\n  'Functional': 'Typ',\n  'Fireplaces': '1',\n  'FireplaceQu': 'TA',\n  'GarageType': 'Attchd',\n  'GarageYrBlt': '2001',\n  'GarageFinish': 'RFn',\n  'GarageCars': '2',\n  'GarageArea': '608',\n  'GarageQual': 'TA',\n  'GarageCond': 'TA',\n  'PavedDrive': 'Y',\n  'WoodDeckSF': '0',\n  'OpenPorchSF': '42',\n  'EnclosedPorch': '0',\n  '3SsnPorch': '0',\n  'ScreenPorch': '0',\n  'PoolArea': '0',\n  'PoolQC': 'NA',\n  'Fence': 'NA',\n  'MiscFeature': 'NA',\n  'MiscVal': '0',\n  'MoSold': '9',\n  'YrSold': '2008',\n  'SaleType': 'WD',\n  'SaleCondition': 'Normal',\n  'SalePrice': '223500'}]"
     },
     "metadata": {},
     "execution_count": 10
    }
   ],
   "source": [
    "\n",
    "with open(\"train.csv\") as csvfile:\n",
    "    data= list(csv.DictReader(csvfile))\n",
    "data[:3]"
   ]
  },
  {
   "cell_type": "code",
   "execution_count": 6,
   "metadata": {},
   "outputs": [
    {
     "output_type": "execute_result",
     "data": {
      "text/plain": "1460"
     },
     "metadata": {},
     "execution_count": 6
    }
   ],
   "source": [
    "len(data)"
   ]
  },
  {
   "cell_type": "code",
   "execution_count": 8,
   "metadata": {},
   "outputs": [
    {
     "output_type": "execute_result",
     "data": {
      "text/plain": "dict_keys(['Id', 'MSSubClass', 'MSZoning', 'LotFrontage', 'LotArea', 'Street', 'Alley', 'LotShape', 'LandContour', 'Utilities', 'LotConfig', 'LandSlope', 'Neighborhood', 'Condition1', 'Condition2', 'BldgType', 'HouseStyle', 'OverallQual', 'OverallCond', 'YearBuilt', 'YearRemodAdd', 'RoofStyle', 'RoofMatl', 'Exterior1st', 'Exterior2nd', 'MasVnrType', 'MasVnrArea', 'ExterQual', 'ExterCond', 'Foundation', 'BsmtQual', 'BsmtCond', 'BsmtExposure', 'BsmtFinType1', 'BsmtFinSF1', 'BsmtFinType2', 'BsmtFinSF2', 'BsmtUnfSF', 'TotalBsmtSF', 'Heating', 'HeatingQC', 'CentralAir', 'Electrical', '1stFlrSF', '2ndFlrSF', 'LowQualFinSF', 'GrLivArea', 'BsmtFullBath', 'BsmtHalfBath', 'FullBath', 'HalfBath', 'BedroomAbvGr', 'KitchenAbvGr', 'KitchenQual', 'TotRmsAbvGrd', 'Functional', 'Fireplaces', 'FireplaceQu', 'GarageType', 'GarageYrBlt', 'GarageFinish', 'GarageCars', 'GarageArea', 'GarageQual', 'GarageCond', 'PavedDrive', 'WoodDeckSF', 'OpenPorchSF', 'EnclosedPorch', '3SsnPorch', 'ScreenPorch', 'PoolArea', 'PoolQC', 'Fence', 'MiscFeature', 'MiscVal', 'MoSold', 'YrSold', 'SaleType', 'SaleCondition', 'SalePrice'])"
     },
     "metadata": {},
     "execution_count": 8
    }
   ],
   "source": [
    "data[0].keys()"
   ]
  },
  {
   "cell_type": "code",
   "execution_count": 12,
   "metadata": {},
   "outputs": [
    {
     "output_type": "execute_result",
     "data": {
      "text/plain": "56.90"
     },
     "metadata": {},
     "execution_count": 12
    }
   ],
   "source": [
    "sum(float(d['MSSubClass'])for d in data)/len(data)"
   ]
  },
  {
   "cell_type": "code",
   "execution_count": 13,
   "metadata": {},
   "outputs": [
    {
     "output_type": "execute_result",
     "data": {
      "text/plain": "5.58"
     },
     "metadata": {},
     "execution_count": 13
    }
   ],
   "source": [
    "sum(float(d[\"OverallCond\"]) for d in data)/ len(data)"
   ]
  },
  {
   "cell_type": "code",
   "execution_count": 18,
   "metadata": {},
   "outputs": [
    {
     "output_type": "execute_result",
     "data": {
      "text/plain": "set"
     },
     "metadata": {},
     "execution_count": 18
    }
   ],
   "source": [
    "price= set(d[\"SalePrice\"] for d in data)\n",
    "type(price)"
   ]
  },
  {
   "cell_type": "code",
   "execution_count": null,
   "metadata": {},
   "outputs": [],
   "source": []
  }
 ],
 "metadata": {
  "language_info": {
   "codemirror_mode": {
    "name": "ipython",
    "version": 3
   },
   "file_extension": ".py",
   "mimetype": "text/x-python",
   "name": "python",
   "nbconvert_exporter": "python",
   "pygments_lexer": "ipython3",
   "version": "3.8.2-final"
  },
  "orig_nbformat": 2,
  "kernelspec": {
   "name": "python38264bitd96947766c68400791cbc825d22a568a",
   "display_name": "Python 3.8.2 64-bit"
  }
 },
 "nbformat": 4,
 "nbformat_minor": 2
}